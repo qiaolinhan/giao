{
 "cells": [
  {
   "cell_type": "markdown",
   "id": "f7902e9a",
   "metadata": {},
   "source": [
    "## Add flag\n",
    "(2022-06-04)To make the product more readable and make decision faster, some flags are considered to be shown in the result video. </br>\n",
    "\n",
    "The flag contain: </br>\n",
    "* Whether smoke: T/F\n",
    "* Suspect smoke source: ($x_{center}$, $y_{center}$)\n",
    "* FPS: video frame rate, it depends on how fast our model could process the information\n",
    "* Time: time of the video/images capured\n",
    "* (Still thinking: mark the center. might cover information in the flame area)\n",
    "\n",
    "How </br>\n",
    "1. Because we already aquired the prediction and colored it, an easier idea is to locate the different color with a threshold. </br>\n",
    "2. Do it after the video, because there is a resize step after fusion. It might cause miss-leading of the center if we do it before fusion. </br>"
   ]
  },
  {
   "cell_type": "code",
   "execution_count": 2,
   "id": "0c22c4de",
   "metadata": {},
   "outputs": [],
   "source": [
    "from collections import deque\n",
    "import numpy as np\n",
    "import cv2\n",
    "import time"
   ]
  },
  {
   "cell_type": "code",
   "execution_count": 4,
   "id": "f56517db",
   "metadata": {},
   "outputs": [],
   "source": [
    "# set the thresholds\n",
    "# In HSV space, one for smoke (blue), one for flame (yellow)\n",
    "# smoke, blue\n",
    "smoke_low = np.array([0, 0, 10])\n",
    "smoke_high = np.array([0, 0, 255]) # 240 degree, 100%, 100%\n",
    "# flame, yellow\n",
    "flame_low = np.array([10, 10, 0])\n",
    "flame_high = np.array([255, 255, 0]) # 60 degree, 100%, 100%\n",
    "\n",
    "mybuffer = 64 # initialize the tracking points list"
   ]
  },
  {
   "cell_type": "code",
   "execution_count": null,
   "id": "52c5f65e",
   "metadata": {},
   "outputs": [],
   "source": [
    "# load the video\n",
    "if __name__ == '__main__':\n",
    "    cv.namewindow('video', 1)\n",
    "    video_path = '/home/'\n",
    "    video = video_path\n",
    "    video = cv2.VideoCapture(video)\n",
    "time.sleep(3)\n",
    "\n",
    "While True:\n",
    "    # red the frame\n",
    "    (ret, frame) = "
   ]
  }
 ],
 "metadata": {
  "kernelspec": {
   "display_name": "Python 3 (ipykernel)",
   "language": "python",
   "name": "python3"
  },
  "language_info": {
   "codemirror_mode": {
    "name": "ipython",
    "version": 3
   },
   "file_extension": ".py",
   "mimetype": "text/x-python",
   "name": "python",
   "nbconvert_exporter": "python",
   "pygments_lexer": "ipython3",
   "version": "3.8.2"
  }
 },
 "nbformat": 4,
 "nbformat_minor": 5
}
