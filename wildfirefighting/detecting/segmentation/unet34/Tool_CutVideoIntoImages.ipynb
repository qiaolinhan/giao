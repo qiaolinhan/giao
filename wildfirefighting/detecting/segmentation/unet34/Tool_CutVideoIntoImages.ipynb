{
 "cells": [
  {
   "cell_type": "code",
   "execution_count": null,
   "id": "cc5b95db",
   "metadata": {},
   "outputs": [],
   "source": [
    "import cv2\n",
    "import os\n",
    "video = cv2.VideoCapture('/home/qiao/dev/giao/datasets/youtube video.mp4')"
   ]
  },
  {
   "cell_type": "code",
   "execution_count": null,
   "id": "be2815b8",
   "metadata": {},
   "outputs": [],
   "source": [
    "fps = video.get(cv2.CAP_PROP_FPS)\n",
    "print('frames per second =',fps)"
   ]
  },
  {
   "cell_type": "code",
   "execution_count": null,
   "id": "1e7edeb2",
   "metadata": {},
   "outputs": [],
   "source": [
    "# acquire the frame id of an particular frame\n",
    "minutes = 0\n",
    "seconds = 40\n",
    "frame_id = int(fps*(minutes*60 + seconds))\n",
    "print('frame id =',frame_id)"
   ]
  },
  {
   "cell_type": "code",
   "execution_count": null,
   "id": "7ccb4322",
   "metadata": {},
   "outputs": [],
   "source": [
    "t_msec = fps*(minutes*60 + seconds)\n",
    "print(\"There are totally %d frames\" %t_msec)\n",
    "# turn the float t_msec into int\n",
    "t_msec = int(t_msec)\n",
    "print(int(t_msec))"
   ]
  },
  {
   "cell_type": "code",
   "execution_count": null,
   "id": "8ee2e87f",
   "metadata": {},
   "outputs": [],
   "source": [
    "video.set(cv2.CAP_PROP_POS_FRAMES, frame_id)\n",
    "ret, frame = video.read()\n",
    "cv2.imshow('frame', frame); cv2.waitKey(0)\n",
    "cv2.imwrite('my_video_frame.png', frame)"
   ]
  },
  {
   "cell_type": "code",
   "execution_count": null,
   "id": "7290f5db",
   "metadata": {},
   "outputs": [],
   "source": [
    "# read every frame before the needed frame_id\n",
    "for i in range(int(t_msec)):\n",
    "    video.set(cv2.CAP_PROP_POS_MSEC, t_msec)\n",
    "    ret, frame = video.read()\n",
    "    # frame_read = cv2.imread(frame)\n",
    "    cv2.imwrite(r'home/qiao/dev/giao/datasets/youtube_test/youtube'+str(i)+'.png', frame)\n",
    "    print(f'======> {i}-th of {t_msec} frame saved.')\n",
    "    # count\n",
    "    count = []\n",
    "    i += 1\n",
    "    count.append(i)\n",
    "    "
   ]
  },
  {
   "cell_type": "code",
   "execution_count": null,
   "id": "faac3007",
   "metadata": {},
   "outputs": [],
   "source": []
  }
 ],
 "metadata": {
  "kernelspec": {
   "display_name": "Python 3 (ipykernel)",
   "language": "python",
   "name": "python3"
  },
  "language_info": {
   "codemirror_mode": {
    "name": "ipython",
    "version": 3
   },
   "file_extension": ".py",
   "mimetype": "text/x-python",
   "name": "python",
   "nbconvert_exporter": "python",
   "pygments_lexer": "ipython3",
   "version": "3.9.15"
  }
 },
 "nbformat": 4,
 "nbformat_minor": 5
}
