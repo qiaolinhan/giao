{
 "cells": [
  {
   "cell_type": "code",
   "execution_count": null,
   "metadata": {},
   "outputs": [],
   "source": [
    "from re import split\n",
    "from fastai import *\n",
    "from fastai.vision import *\n",
    "from fastai.vision.all import *\n",
    "import torch\n",
    "import torch.nn as nn\n",
    "import matplotlib.pyplot as plt\n",
    "%matplotlib inline"
   ]
  },
  {
   "cell_type": "code",
   "execution_count": null,
   "metadata": {},
   "outputs": [],
   "source": [
    "print(torch.cuda.is_available())"
   ]
  },
  {
   "cell_type": "code",
   "execution_count": null,
   "metadata": {},
   "outputs": [],
   "source": [
    "path = Path('/home/qiao/dev/giao/datasets/kittiseg')\n",
    "\n",
    "path_img = path/'training/image_2'\n",
    "path_label = path/'training/instance'\n",
    "codes = ['void', 'flat', 'construction', 'object', 'nature', 'sky', 'human', 'vehicle']\n",
    "# codes = ['unlabeled',\n",
    "#     'ego vehicle',\n",
    "#     'rectification border',\n",
    "#     'out of roi',\n",
    "#     'static',\n",
    "#     'dynamic',\n",
    "#     'ground',\n",
    "#     'road',\n",
    "#     'sidewalk',\n",
    "#     'parking',\n",
    "#     'rail track',\n",
    "#     'building',\n",
    "#     'wall',\n",
    "#     'fence',\n",
    "#     'guard rail',\n",
    "#     'bridge',\n",
    "#     'tunnel',\n",
    "#     'pole',\n",
    "#     'polegroup',\n",
    "#     'traffic light',\n",
    "#     'traffic sign',\n",
    "#     'vegetation',\n",
    "#     'terrain',\n",
    "#     'sky',\n",
    "#     'person',\n",
    "#     'rider',\n",
    "#     'car',\n",
    "#     'truck',\n",
    "#     'bus',\n",
    "#     'caravan',\n",
    "#     'trailer',\n",
    "#     'train',\n",
    "#     'motorcycle',\n",
    "#     'bicycle',\n",
    "#     'license plate']"
   ]
  },
  {
   "cell_type": "code",
   "execution_count": null,
   "metadata": {},
   "outputs": [],
   "source": [
    "path_img\n",
    "path_label"
   ]
  },
  {
   "cell_type": "code",
   "execution_count": null,
   "metadata": {},
   "outputs": [],
   "source": [
    "fnames = get_image_files(path_img)\n",
    "print(fnames[0])"
   ]
  },
  {
   "cell_type": "code",
   "execution_count": null,
   "metadata": {},
   "outputs": [],
   "source": [
    "lbl_names = get_image_files(path_label)\n",
    "print(lbl_names[0])"
   ]
  },
  {
   "cell_type": "code",
   "execution_count": null,
   "metadata": {},
   "outputs": [],
   "source": [
    "img = Image.open(fnames[0])\n",
    "img.show()"
   ]
  },
  {
   "cell_type": "code",
   "execution_count": null,
   "metadata": {},
   "outputs": [],
   "source": [
    "img = Image.open(lbl_names[0])\n",
    "img.show()"
   ]
  },
  {
   "cell_type": "code",
   "execution_count": null,
   "metadata": {},
   "outputs": [],
   "source": [
    "get_y_fn = lambda x: path_label/f'{x.name}'\n",
    "defaults.use_cuda = True"
   ]
  },
  {
   "cell_type": "code",
   "execution_count": null,
   "metadata": {},
   "outputs": [],
   "source": [
    "dls = SegmentationDataLoaders.from_label_func(\n",
    "    path_img,\n",
    "    bs = 1,\n",
    "    fnames = fnames,\n",
    "    label_func = get_y_fn,\n",
    "    codes = codes,\n",
    "    item_tfms = [Resize((400, 400))],\n",
    "    batch_tfms = [Normalize.from_stats(*imagenet_stats)],\n",
    ")"
   ]
  },
  {
   "cell_type": "code",
   "execution_count": null,
   "metadata": {},
   "outputs": [],
   "source": [
    "name2id = {v:k for k, v in enumerate(codes)}\n",
    "void_code = name2id['void']\n",
    "\n",
    "def acc_smoke(input, target):\n",
    "    target = target.squeeze(1)\n",
    "    mask = target != void_code\n",
    "    # mask = target\n",
    "    return (input.argmax(dim = 1)[mask]==target[mask]).float().mean()\n",
    "\n",
    "metrics = acc_smoke"
   ]
  },
  {
   "cell_type": "code",
   "execution_count": null,
   "metadata": {},
   "outputs": [],
   "source": [
    "learn = unet_learner(dls, models.resnet34, metrics = metrics,\n",
    "                    self_attention=True)"
   ]
  },
  {
   "cell_type": "code",
   "execution_count": null,
   "metadata": {},
   "outputs": [],
   "source": [
    "device = 'cuda'\n",
    "learn.model.to(device)"
   ]
  },
  {
   "cell_type": "code",
   "execution_count": null,
   "metadata": {},
   "outputs": [],
   "source": [
    "# learn.model"
   ]
  },
  {
   "cell_type": "code",
   "execution_count": null,
   "metadata": {},
   "outputs": [],
   "source": [
    "learn.lr_find(stop_div=False, num_it=8)"
   ]
  },
  {
   "cell_type": "code",
   "execution_count": null,
   "metadata": {},
   "outputs": [],
   "source": [
    "lr = 5e-4\n",
    "learn.fit_one_cycle(5, slice(lr))"
   ]
  },
  {
   "cell_type": "code",
   "execution_count": null,
   "metadata": {},
   "outputs": [],
   "source": [
    "learn.recorder.plot_loss(skip_start=0, with_valid=True)"
   ]
  },
  {
   "cell_type": "code",
   "execution_count": null,
   "metadata": {},
   "outputs": [],
   "source": [
    "learn.save('stage-1')\n",
    "learn.load('stage-1')"
   ]
  },
  {
   "cell_type": "code",
   "execution_count": null,
   "metadata": {},
   "outputs": [],
   "source": [
    "learn.unfreeze()\n",
    "learn.lr_find()"
   ]
  },
  {
   "cell_type": "code",
   "execution_count": null,
   "metadata": {},
   "outputs": [],
   "source": [
    "lr_max = 1.73e-5"
   ]
  },
  {
   "cell_type": "code",
   "execution_count": null,
   "metadata": {},
   "outputs": [],
   "source": [
    "learn.fit_one_cycle(4, lr_max)"
   ]
  },
  {
   "cell_type": "code",
   "execution_count": null,
   "metadata": {},
   "outputs": [],
   "source": [
    "learn.recorder.plot_loss(skip_start=0, with_valid=True)"
   ]
  },
  {
   "cell_type": "code",
   "execution_count": null,
   "metadata": {},
   "outputs": [],
   "source": [
    "learn.show_results()\n",
    "learn.save('U-res34')"
   ]
  },
  {
   "cell_type": "code",
   "execution_count": null,
   "metadata": {},
   "outputs": [],
   "source": [
    "# learn.show_results()\n",
    "learn.load('U-res34')\n",
    "learn.show_results()"
   ]
  },
  {
   "cell_type": "code",
   "execution_count": null,
   "metadata": {},
   "outputs": [],
   "source": [
    "learn.show_results()"
   ]
  },
  {
   "cell_type": "code",
   "execution_count": null,
   "metadata": {},
   "outputs": [],
   "source": [
    "learn.show_results()"
   ]
  },
  {
   "cell_type": "code",
   "execution_count": null,
   "metadata": {},
   "outputs": [],
   "source": [
    "learn.show_results()\n",
    "learn.save('alunet')"
   ]
  },
  {
   "cell_type": "code",
   "execution_count": null,
   "metadata": {},
   "outputs": [],
   "source": [
    "learn.show_results()"
   ]
  },
  {
   "cell_type": "code",
   "execution_count": null,
   "metadata": {},
   "outputs": [],
   "source": [
    "learn.show_results()"
   ]
  },
  {
   "cell_type": "code",
   "execution_count": null,
   "metadata": {},
   "outputs": [],
   "source": [
    "learn.show_results()"
   ]
  },
  {
   "cell_type": "code",
   "execution_count": null,
   "metadata": {},
   "outputs": [],
   "source": [
    "img = Image.open('/home/qiao/dev/giao/datasets/S_google_wildfire/004.png').resize((255, 255))\n",
    "img.show()"
   ]
  },
  {
   "cell_type": "code",
   "execution_count": null,
   "metadata": {},
   "outputs": [],
   "source": [
    "img = PILImage(img)"
   ]
  },
  {
   "cell_type": "code",
   "execution_count": null,
   "metadata": {},
   "outputs": [],
   "source": [
    "learn.load('alunet')\n",
    "# learn.load('attunet')"
   ]
  },
  {
   "cell_type": "code",
   "execution_count": null,
   "metadata": {},
   "outputs": [],
   "source": [
    "prediction_mask = learn.predict(img)\n",
    "seg_map = prediction_mask[0]\n",
    "torch.Tensor.ndim = property(lambda self: len(self.shape))\n",
    "plt.imshow(seg_map)"
   ]
  },
  {
   "cell_type": "code",
   "execution_count": null,
   "metadata": {},
   "outputs": [],
   "source": []
  }
 ],
 "metadata": {
  "interpreter": {
   "hash": "f00a7f2efed5fa79ad21ba9c8a6ff249d2ae42fa7b6a12fc784756ba0f64009c"
  },
  "kernelspec": {
   "display_name": "Python 3",
   "language": "python",
   "name": "python3"
  },
  "language_info": {
   "codemirror_mode": {
    "name": "ipython",
    "version": 3
   },
   "file_extension": ".py",
   "mimetype": "text/x-python",
   "name": "python",
   "nbconvert_exporter": "python",
   "pygments_lexer": "ipython3",
   "version": "3.9.11"
  }
 },
 "nbformat": 4,
 "nbformat_minor": 2
}
