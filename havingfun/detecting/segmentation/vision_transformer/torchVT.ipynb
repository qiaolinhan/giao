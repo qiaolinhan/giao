{
 "cells": [
  {
   "cell_type": "code",
   "execution_count": 1,
   "id": "30518819",
   "metadata": {},
   "outputs": [],
   "source": [
    "import torch \n",
    "import torch.nn as nn "
   ]
  },
  {
   "cell_type": "code",
   "execution_count": null,
   "id": "47c693e4",
   "metadata": {},
   "outputs": [],
   "source": [
    "class VisionTransformer(nn.module):\n",
    "    def __init__(self, img_size = 400, patch_size = 16, in_channels = 3, out_channels = 1, \n",
    "                 embed_dim = 768, depth = 12, num_heads = 12, mlp_ratio = 4, qkv_bias = True, \n",
    "                representation_size = None, drop_rate = 0., att_drop_rate = 0., drop_path_rate = 0.,\n",
    "                hybrid_backbone = None, norm_layer = None,):\n",
    "        \n",
    "    "
   ]
  },
  {
   "cell_type": "markdown",
   "id": "fbff45a3",
   "metadata": {},
   "source": [
    "## Patch Embedding\n",
    "To split images into patches and then embed them.  \n",
    "``` python\n",
    "Parameters:  \n",
    "* img_size: int, size of img (square);  \n",
    "* patch_size: int, size of patch (sqaure);\n",
    "* in_channels: int, number of input channels;\n",
    "* embed_dim: int, the embedding dimension;\n",
    "\n",
    "Attributes:\n",
    "* n_patches: int, number of patches inside the image;\n",
    "* proj: nn.Conv2d, Convolusional layer that does both the splitting into patches and their embedding. \n",
    "```"
   ]
  },
  {
   "cell_type": "code",
   "execution_count": 2,
   "id": "942f8c78",
   "metadata": {},
   "outputs": [],
   "source": [
    "class PatchEmbedding(nn.Module):\n",
    "    def __init__(self, img_size, patch_size, in_channels = 3, embed_dim = 768): # why 768???\n",
    "        super().__init___()\n",
    "        self.img_size = img_size\n",
    "        self.patch_size = patch_size\n",
    "        self.n_patches = (img_size // patch_size) ** 2\n",
    "        \n",
    "        self.proj = nn.Conv2d(in_channels, embed_dim, kernel_size=patch_size, stride = patch_size)\n",
    "        \n",
    "    def forward(self, x):\n",
    "        '''\n",
    "        parameter\n",
    "        -------\n",
    "        x: torch.tensor\n",
    "          shape '(n_sample, in_channels, H, W) --> (B, C, H, W)'\n",
    "        \n",
    "        returns\n",
    "        ------\n",
    "        torch.tensor\n",
    "            shape '(n_sample, n_patches, embed_dim)'\n",
    "        '''\n",
    "        \n",
    "        x = self.proj(x)\n",
    "        x = x.flatten(2)\n",
    "        x = transpose(1, 2)\n",
    "        return x"
   ]
  },
  {
   "cell_type": "code",
   "execution_count": null,
   "id": "f45d3429",
   "metadata": {},
   "outputs": [],
   "source": [
    "class Attention(nn.module):\n",
    "    '''\n",
    "    Attention mechanism.\n",
    "    \n",
    "    Parameters\n",
    "    ------\n",
    "    dim: int\n",
    "        The input and output dimension of per token features.\n",
    "        \n",
    "    n_heads: int\n",
    "        Number of attention heads.\n",
    "        \n",
    "    qkv_bias: bool\n",
    "        If True then we include bias to the query, key and value projections.\n",
    "        \n",
    "    att_p: float\n",
    "        Dropout probability applied to the query, key, and value tensors.\n",
    "        \n",
    "    proj_p: flaot\n",
    "        Dropout probability applied to the output tensor.\n",
    "    '''\n",
    "    "
   ]
  }
 ],
 "metadata": {
  "kernelspec": {
   "display_name": "Python 3 (ipykernel)",
   "language": "python",
   "name": "python3"
  },
  "language_info": {
   "codemirror_mode": {
    "name": "ipython",
    "version": 3
   },
   "file_extension": ".py",
   "mimetype": "text/x-python",
   "name": "python",
   "nbconvert_exporter": "python",
   "pygments_lexer": "ipython3",
   "version": "3.9.11"
  }
 },
 "nbformat": 4,
 "nbformat_minor": 5
}
